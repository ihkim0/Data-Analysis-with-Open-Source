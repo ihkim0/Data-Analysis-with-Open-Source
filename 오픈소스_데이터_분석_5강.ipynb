{
  "nbformat": 4,
  "nbformat_minor": 0,
  "metadata": {
    "colab": {
      "provenance": [],
      "include_colab_link": true
    },
    "kernelspec": {
      "name": "python3",
      "display_name": "Python 3"
    },
    "language_info": {
      "name": "python"
    }
  },
  "cells": [
    {
      "cell_type": "markdown",
      "metadata": {
        "id": "view-in-github",
        "colab_type": "text"
      },
      "source": [
        "<a href=\"https://colab.research.google.com/github/ihkim0/Data-Analysis-with-Open-Source/blob/main/%EC%98%A4%ED%94%88%EC%86%8C%EC%8A%A4_%EB%8D%B0%EC%9D%B4%ED%84%B0_%EB%B6%84%EC%84%9D_5%EA%B0%95.ipynb\" target=\"_parent\"><img src=\"https://colab.research.google.com/assets/colab-badge.svg\" alt=\"Open In Colab\"/></a>"
      ]
    },
    {
      "cell_type": "markdown",
      "source": [
        "# 오픈소스 기반 데이터 분석 5강 - 데이터 저장"
      ],
      "metadata": {
        "id": "O4kC4JMknVnK"
      }
    },
    {
      "cell_type": "markdown",
      "source": [
        "## 5-1 CSV 형식 저장"
      ],
      "metadata": {
        "id": "8DfV0cZLqj_s"
      }
    },
    {
      "cell_type": "code",
      "source": [
        "import pandas as pd\n",
        "\n",
        "data = {\n",
        "    'student_id': [101, 102, 103, 104, 105],\n",
        "    'database_score': [85, 76, 92, 63, 88],\n",
        "    'cloudcomputing_score': [78, 82, 95, 70, 84],\n",
        "    'python_score': [92, 78, 85, 75, 91],\n",
        "    'watch_rate': [0.95, 0.87, 0.99, 0.80, 0.93]\n",
        "}\n",
        "## DataFrame 생성\n",
        "df = pd.DataFrame(data)\n",
        "\n",
        "## CSV 형식 저장\n",
        "df.to_csv('student_scores.csv', index=False, encoding='utf-8')"
      ],
      "metadata": {
        "id": "DztLRI9gW2lk"
      },
      "execution_count": 1,
      "outputs": []
    },
    {
      "cell_type": "markdown",
      "source": [
        "## 5-2 JSON 형식 저장"
      ],
      "metadata": {
        "id": "CSABzaf3q8XU"
      }
    },
    {
      "cell_type": "code",
      "source": [
        "### 라이브러리 임포트\n",
        "import json\n",
        "import pandas as pd\n",
        "\n",
        "# data는 dictionary로 만들어\n",
        "data = {\n",
        "    \"이름\": \"홍길동\",\n",
        "    \"나이\": 25,\n",
        "    \"거주지\": \"서울\",\n",
        "    \"관심사\": [\"프로그래밍\", \"데이터 분석\", \"여행\"]\n",
        "}\n",
        "\n",
        "## json.dump를 이용한 저장\n",
        "with open('output.json', mode='w', encoding='utf-8') as file:\n",
        "    json.dump(data, file, indent=4, ensure_ascii=False)\n",
        "\n",
        "## DataFrame을 이용한 저장\n",
        "df = pd.DataFrame([data])\n",
        "#df.to_json('output.json', orient='records', indent=4, force_ascii=False)\n",
        "df.to_json('output.json', orient='columns', indent=4, force_ascii=False)"
      ],
      "metadata": {
        "id": "7bAgRpizW7Vj"
      },
      "execution_count": 8,
      "outputs": []
    },
    {
      "cell_type": "markdown",
      "source": [
        "## 5-3 Pandas Dataframe 데이터 추출"
      ],
      "metadata": {
        "id": "NMlsQDHtrA_x"
      }
    },
    {
      "cell_type": "code",
      "source": [
        "import pandas as pd\n",
        "\n",
        "data = {\n",
        "    \"이름\": [\"김철수\", \"이영희\", \"박민수\", \"최지훈\", \"정소희\"],\n",
        "    \"학년\": [1, 2, 3, 4, 2],\n",
        "    \"학점\": [4.2, 3.8, 4.5, 3.9, 3.5],\n",
        "    \"학과\": [\"컴퓨터학\", \"경영학\", \"농학\", \"교육학\", \"영어영문학\"],\n",
        "    \"동아리\": [\"프로그래밍\", \"독서토론\", \"로봇공학\", \"봉사활동\", \"음악감상\"]\n",
        "}\n",
        "df = pd.DataFrame(data)\n",
        "df\n",
        "## DataFrame 인덱스 출력\n",
        "print(df.index)\n",
        "## DataFrame 컬럼 출력\n",
        "print(df.columns)\n",
        "## DataFrame 행 출력\n",
        "print(df.values.tolist())\n",
        "print(df.values)\n",
        "## DataFrame 값 출력\n",
        "print(df.values.flatten())"
      ],
      "metadata": {
        "id": "dk3xneVAW9_g",
        "outputId": "0dd339b2-3667-4eb0-9c8a-943c9154bf12",
        "colab": {
          "base_uri": "https://localhost:8080/"
        }
      },
      "execution_count": 18,
      "outputs": [
        {
          "output_type": "stream",
          "name": "stdout",
          "text": [
            "RangeIndex(start=0, stop=5, step=1)\n",
            "Index(['이름', '학년', '학점', '학과', '동아리'], dtype='object')\n",
            "[['김철수', 1, 4.2, '컴퓨터학', '프로그래밍'], ['이영희', 2, 3.8, '경영학', '독서토론'], ['박민수', 3, 4.5, '농학', '로봇공학'], ['최지훈', 4, 3.9, '교육학', '봉사활동'], ['정소희', 2, 3.5, '영어영문학', '음악감상']]\n",
            "[['김철수' 1 4.2 '컴퓨터학' '프로그래밍']\n",
            " ['이영희' 2 3.8 '경영학' '독서토론']\n",
            " ['박민수' 3 4.5 '농학' '로봇공학']\n",
            " ['최지훈' 4 3.9 '교육학' '봉사활동']\n",
            " ['정소희' 2 3.5 '영어영문학' '음악감상']]\n",
            "['김철수' 1 4.2 '컴퓨터학' '프로그래밍' '이영희' 2 3.8 '경영학' '독서토론' '박민수' 3 4.5 '농학'\n",
            " '로봇공학' '최지훈' 4 3.9 '교육학' '봉사활동' '정소희' 2 3.5 '영어영문학' '음악감상']\n"
          ]
        }
      ]
    },
    {
      "cell_type": "code",
      "source": [],
      "metadata": {
        "id": "6ZG7xoUlUnmH"
      },
      "execution_count": null,
      "outputs": []
    },
    {
      "cell_type": "markdown",
      "source": [
        "## 5-4 DataFrame 생성 방법"
      ],
      "metadata": {
        "id": "ILJd1GLoseqm"
      }
    },
    {
      "cell_type": "code",
      "source": [
        "import pandas as pd\n",
        "import json\n",
        "\n",
        "data = {\n",
        "    \"이름\": [\"김철수\", \"이영희\", \"박민수\", \"최지훈\", \"정소희\"],\n",
        "    \"학년\": [1, 2, 3, 4, 2],\n",
        "    \"학점\": [4.2, 3.8, 4.5, 3.9, 3.5],\n",
        "    \"학과\": [\"컴퓨터공학\", \"경영학\", \"전자공학\", \"의학\", \"심리학\"],\n",
        "    \"동아리\": [\"프로그래밍\", \"독서토론\", \"로봇공학\", \"봉사활동\", \"음악감상\"]\n",
        "}\n",
        "\n",
        "## 딕셔너리, csv, json으로 부터 DataFrame 생성\n",
        "df1 = pd.DataFrame.from_dict(data)\n",
        "df2 = pd.read_csv('student_scores.csv')\n",
        "df3 = pd.read_json('students.json')\n",
        "\n",
        "## 세가지 방법 결과 비교\n",
        "print(df1.shape)\n",
        "print(df2.shape)\n",
        "print(df3.shape)"
      ],
      "metadata": {
        "id": "ISnPLEgNXAmi",
        "outputId": "d6359524-eeb1-4120-f50a-b95bfedc7732",
        "colab": {
          "base_uri": "https://localhost:8080/"
        }
      },
      "execution_count": 23,
      "outputs": [
        {
          "output_type": "stream",
          "name": "stdout",
          "text": [
            "(5, 5)\n",
            "(5, 5)\n",
            "(5, 5)\n"
          ]
        }
      ]
    },
    {
      "cell_type": "markdown",
      "source": [
        "## 5-5 DataFrame 저장 방법"
      ],
      "metadata": {
        "id": "z1N6lAnwsdyU"
      }
    },
    {
      "cell_type": "code",
      "source": [
        "import pandas as pd\n",
        "\n",
        "data = {\n",
        "    \"이름\": [\"김철수\", \"이영희\", \"박민수\", \"최지훈\", \"정소희\"],\n",
        "    \"학년\": [1, 2, 3, 4, 2],\n",
        "    \"학점\": [4.2, 3.8, 4.5, 3.9, 3.5],\n",
        "    \"학과\": [\"컴퓨터공학\", \"경영학\", \"전자공학\", \"의학\", \"심리학\"],\n",
        "    \"동아리\": [\"프로그래밍\", \"독서토론\", \"로봇공학\", \"봉사활동\", \"음악감상\"]\n",
        "}\n",
        "\n",
        "## Dataframe 생성\n",
        "df =pd.DataFrame(data)\n",
        "\n",
        "## CSV, JSON 형식으로 저장\n",
        "df.to_csv('student_scoures.csv')\n",
        "df.to_json('student_scoures.json')\n",
        "\n",
        "## EXCEL 형식으로 저장\n",
        "df.to_excel('student_scoures.xlsx', index=False)\n",
        "\n",
        "## HTML 형식으로 저장\n",
        "html_table = df.to_html()\n",
        "print(html_table)\n",
        "with open('student_scoures.html', 'w') as file:\n",
        "    file.write(html_table)"
      ],
      "metadata": {
        "id": "_dqoWCRoXDrJ",
        "outputId": "884aafa9-7303-48bd-a6d0-c345e56f8522",
        "colab": {
          "base_uri": "https://localhost:8080/"
        }
      },
      "execution_count": 26,
      "outputs": [
        {
          "output_type": "stream",
          "name": "stdout",
          "text": [
            "<table border=\"1\" class=\"dataframe\">\n",
            "  <thead>\n",
            "    <tr style=\"text-align: right;\">\n",
            "      <th></th>\n",
            "      <th>이름</th>\n",
            "      <th>학년</th>\n",
            "      <th>학점</th>\n",
            "      <th>학과</th>\n",
            "      <th>동아리</th>\n",
            "    </tr>\n",
            "  </thead>\n",
            "  <tbody>\n",
            "    <tr>\n",
            "      <th>0</th>\n",
            "      <td>김철수</td>\n",
            "      <td>1</td>\n",
            "      <td>4.2</td>\n",
            "      <td>컴퓨터공학</td>\n",
            "      <td>프로그래밍</td>\n",
            "    </tr>\n",
            "    <tr>\n",
            "      <th>1</th>\n",
            "      <td>이영희</td>\n",
            "      <td>2</td>\n",
            "      <td>3.8</td>\n",
            "      <td>경영학</td>\n",
            "      <td>독서토론</td>\n",
            "    </tr>\n",
            "    <tr>\n",
            "      <th>2</th>\n",
            "      <td>박민수</td>\n",
            "      <td>3</td>\n",
            "      <td>4.5</td>\n",
            "      <td>전자공학</td>\n",
            "      <td>로봇공학</td>\n",
            "    </tr>\n",
            "    <tr>\n",
            "      <th>3</th>\n",
            "      <td>최지훈</td>\n",
            "      <td>4</td>\n",
            "      <td>3.9</td>\n",
            "      <td>의학</td>\n",
            "      <td>봉사활동</td>\n",
            "    </tr>\n",
            "    <tr>\n",
            "      <th>4</th>\n",
            "      <td>정소희</td>\n",
            "      <td>2</td>\n",
            "      <td>3.5</td>\n",
            "      <td>심리학</td>\n",
            "      <td>음악감상</td>\n",
            "    </tr>\n",
            "  </tbody>\n",
            "</table>\n"
          ]
        }
      ]
    },
    {
      "cell_type": "markdown",
      "source": [
        "## 5-6 실습 시나리오"
      ],
      "metadata": {
        "id": "ifBFAyulsdJb"
      }
    },
    {
      "cell_type": "markdown",
      "source": [
        "## 데이터 수집"
      ],
      "metadata": {
        "id": "muFj6okKyXy6"
      }
    },
    {
      "cell_type": "code",
      "source": [
        "import requests\n",
        "\n",
        "url = \"http://apis.data.go.kr/B552584/ArpltnInforInqireSvc/getCtprvnRltmMesureDnsty\"\n",
        "api_key = '6f04c2ad708fe62c4f3de6f747d7aed9dd47804d145cb050625bebdca97eac99'\n",
        "\n",
        "params = {\n",
        "    'serviceKey': api_key,\n",
        "    'returnType': 'json',\n",
        "    'numOfRows': '10',\n",
        "    'pageNo': '1',\n",
        "    'sidoName': '서울',\n",
        "    'ver': '1.0'\n",
        "}\n",
        "\n",
        "## 데이터 수집\n",
        "response = requests.get(url, params=params)\n",
        "\n",
        "## 호출 성공/실패 출력\n",
        "#print(response.json())\n",
        "print(json.dumps(response.json(), indent=4, ensure_ascii=False))\n"
      ],
      "metadata": {
        "id": "7yCozmQeXJcO",
        "outputId": "74647187-127a-428d-a002-1c2134ac33ea",
        "colab": {
          "base_uri": "https://localhost:8080/"
        }
      },
      "execution_count": 39,
      "outputs": [
        {
          "output_type": "stream",
          "name": "stdout",
          "text": [
            "{\n",
            "    \"response\": {\n",
            "        \"body\": {\n",
            "            \"totalCount\": 40,\n",
            "            \"items\": [\n",
            "                {\n",
            "                    \"so2Grade\": \"1\",\n",
            "                    \"coFlag\": null,\n",
            "                    \"khaiValue\": \"46\",\n",
            "                    \"so2Value\": \"0.002\",\n",
            "                    \"coValue\": \"0.2\",\n",
            "                    \"pm25Flag\": null,\n",
            "                    \"pm10Flag\": null,\n",
            "                    \"o3Grade\": \"1\",\n",
            "                    \"pm10Value\": \"10\",\n",
            "                    \"khaiGrade\": \"1\",\n",
            "                    \"pm25Value\": \"5\",\n",
            "                    \"sidoName\": \"서울\",\n",
            "                    \"no2Flag\": null,\n",
            "                    \"no2Grade\": \"1\",\n",
            "                    \"o3Flag\": null,\n",
            "                    \"pm25Grade\": \"1\",\n",
            "                    \"so2Flag\": null,\n",
            "                    \"dataTime\": \"2025-09-21 22:00\",\n",
            "                    \"coGrade\": \"1\",\n",
            "                    \"no2Value\": \"0.012\",\n",
            "                    \"stationName\": \"중구\",\n",
            "                    \"pm10Grade\": \"1\",\n",
            "                    \"o3Value\": \"0.028\"\n",
            "                },\n",
            "                {\n",
            "                    \"so2Grade\": \"1\",\n",
            "                    \"coFlag\": null,\n",
            "                    \"khaiValue\": \"36\",\n",
            "                    \"so2Value\": \"0.003\",\n",
            "                    \"coValue\": \"0.4\",\n",
            "                    \"pm25Flag\": null,\n",
            "                    \"pm10Flag\": null,\n",
            "                    \"o3Grade\": \"1\",\n",
            "                    \"pm10Value\": \"10\",\n",
            "                    \"khaiGrade\": \"1\",\n",
            "                    \"pm25Value\": \"6\",\n",
            "                    \"sidoName\": \"서울\",\n",
            "                    \"no2Flag\": null,\n",
            "                    \"no2Grade\": \"1\",\n",
            "                    \"o3Flag\": null,\n",
            "                    \"pm25Grade\": null,\n",
            "                    \"so2Flag\": null,\n",
            "                    \"dataTime\": \"2025-09-21 22:00\",\n",
            "                    \"coGrade\": \"1\",\n",
            "                    \"no2Value\": \"0.013\",\n",
            "                    \"stationName\": \"한강대로\",\n",
            "                    \"pm10Grade\": \"1\",\n",
            "                    \"o3Value\": \"0.022\"\n",
            "                },\n",
            "                {\n",
            "                    \"so2Grade\": \"1\",\n",
            "                    \"coFlag\": null,\n",
            "                    \"khaiValue\": \"-\",\n",
            "                    \"so2Value\": \"0.002\",\n",
            "                    \"coValue\": \"0.2\",\n",
            "                    \"pm25Flag\": null,\n",
            "                    \"pm10Flag\": null,\n",
            "                    \"o3Grade\": \"1\",\n",
            "                    \"pm10Value\": \"6\",\n",
            "                    \"khaiGrade\": null,\n",
            "                    \"pm25Value\": \"4\",\n",
            "                    \"sidoName\": \"서울\",\n",
            "                    \"no2Flag\": null,\n",
            "                    \"no2Grade\": \"1\",\n",
            "                    \"o3Flag\": null,\n",
            "                    \"pm25Grade\": null,\n",
            "                    \"so2Flag\": null,\n",
            "                    \"dataTime\": \"2025-09-21 22:00\",\n",
            "                    \"coGrade\": \"1\",\n",
            "                    \"no2Value\": \"0.013\",\n",
            "                    \"stationName\": \"종로구\",\n",
            "                    \"pm10Grade\": \"1\",\n",
            "                    \"o3Value\": \"0.028\"\n",
            "                },\n",
            "                {\n",
            "                    \"so2Grade\": \"1\",\n",
            "                    \"coFlag\": null,\n",
            "                    \"khaiValue\": \"-\",\n",
            "                    \"so2Value\": \"0.002\",\n",
            "                    \"coValue\": \"0.3\",\n",
            "                    \"pm25Flag\": null,\n",
            "                    \"pm10Flag\": null,\n",
            "                    \"o3Grade\": \"1\",\n",
            "                    \"pm10Value\": \"10\",\n",
            "                    \"khaiGrade\": null,\n",
            "                    \"pm25Value\": \"3\",\n",
            "                    \"sidoName\": \"서울\",\n",
            "                    \"no2Flag\": null,\n",
            "                    \"no2Grade\": \"1\",\n",
            "                    \"o3Flag\": null,\n",
            "                    \"pm25Grade\": null,\n",
            "                    \"so2Flag\": null,\n",
            "                    \"dataTime\": \"2025-09-21 22:00\",\n",
            "                    \"coGrade\": \"1\",\n",
            "                    \"no2Value\": \"0.014\",\n",
            "                    \"stationName\": \"청계천로\",\n",
            "                    \"pm10Grade\": \"1\",\n",
            "                    \"o3Value\": \"0.024\"\n",
            "                },\n",
            "                {\n",
            "                    \"so2Grade\": \"1\",\n",
            "                    \"coFlag\": null,\n",
            "                    \"khaiValue\": \"-\",\n",
            "                    \"so2Value\": \"0.002\",\n",
            "                    \"coValue\": \"0.3\",\n",
            "                    \"pm25Flag\": \"통신장애\",\n",
            "                    \"pm10Flag\": null,\n",
            "                    \"o3Grade\": \"1\",\n",
            "                    \"pm10Value\": \"9\",\n",
            "                    \"khaiGrade\": null,\n",
            "                    \"pm25Value\": \"-\",\n",
            "                    \"sidoName\": \"서울\",\n",
            "                    \"no2Flag\": null,\n",
            "                    \"no2Grade\": \"1\",\n",
            "                    \"o3Flag\": null,\n",
            "                    \"pm25Grade\": null,\n",
            "                    \"so2Flag\": null,\n",
            "                    \"dataTime\": \"2025-09-21 22:00\",\n",
            "                    \"coGrade\": \"1\",\n",
            "                    \"no2Value\": \"0.017\",\n",
            "                    \"stationName\": \"종로\",\n",
            "                    \"pm10Grade\": \"1\",\n",
            "                    \"o3Value\": \"0.020\"\n",
            "                },\n",
            "                {\n",
            "                    \"so2Grade\": \"1\",\n",
            "                    \"coFlag\": null,\n",
            "                    \"khaiValue\": \"38\",\n",
            "                    \"so2Value\": \"0.002\",\n",
            "                    \"coValue\": \"0.3\",\n",
            "                    \"pm25Flag\": null,\n",
            "                    \"pm10Flag\": null,\n",
            "                    \"o3Grade\": \"1\",\n",
            "                    \"pm10Value\": \"8\",\n",
            "                    \"khaiGrade\": \"1\",\n",
            "                    \"pm25Value\": \"2\",\n",
            "                    \"sidoName\": \"서울\",\n",
            "                    \"no2Flag\": null,\n",
            "                    \"no2Grade\": \"1\",\n",
            "                    \"o3Flag\": null,\n",
            "                    \"pm25Grade\": \"1\",\n",
            "                    \"so2Flag\": null,\n",
            "                    \"dataTime\": \"2025-09-21 22:00\",\n",
            "                    \"coGrade\": \"1\",\n",
            "                    \"no2Value\": \"0.012\",\n",
            "                    \"stationName\": \"용산구\",\n",
            "                    \"pm10Grade\": \"1\",\n",
            "                    \"o3Value\": \"0.023\"\n",
            "                },\n",
            "                {\n",
            "                    \"so2Grade\": \"1\",\n",
            "                    \"coFlag\": null,\n",
            "                    \"khaiValue\": \"47\",\n",
            "                    \"so2Value\": \"0.003\",\n",
            "                    \"coValue\": \"0.3\",\n",
            "                    \"pm25Flag\": null,\n",
            "                    \"pm10Flag\": null,\n",
            "                    \"o3Grade\": \"1\",\n",
            "                    \"pm10Value\": \"10\",\n",
            "                    \"khaiGrade\": \"1\",\n",
            "                    \"pm25Value\": \"3\",\n",
            "                    \"sidoName\": \"서울\",\n",
            "                    \"no2Flag\": null,\n",
            "                    \"no2Grade\": \"1\",\n",
            "                    \"o3Flag\": null,\n",
            "                    \"pm25Grade\": \"1\",\n",
            "                    \"so2Flag\": null,\n",
            "                    \"dataTime\": \"2025-09-21 22:00\",\n",
            "                    \"coGrade\": \"1\",\n",
            "                    \"no2Value\": \"0.011\",\n",
            "                    \"stationName\": \"광진구\",\n",
            "                    \"pm10Grade\": \"1\",\n",
            "                    \"o3Value\": \"0.028\"\n",
            "                },\n",
            "                {\n",
            "                    \"so2Grade\": \"1\",\n",
            "                    \"coFlag\": null,\n",
            "                    \"khaiValue\": \"-\",\n",
            "                    \"so2Value\": \"0.002\",\n",
            "                    \"coValue\": \"0.2\",\n",
            "                    \"pm25Flag\": null,\n",
            "                    \"pm10Flag\": null,\n",
            "                    \"o3Grade\": \"1\",\n",
            "                    \"pm10Value\": \"6\",\n",
            "                    \"khaiGrade\": null,\n",
            "                    \"pm25Value\": \"5\",\n",
            "                    \"sidoName\": \"서울\",\n",
            "                    \"no2Flag\": null,\n",
            "                    \"no2Grade\": \"1\",\n",
            "                    \"o3Flag\": null,\n",
            "                    \"pm25Grade\": \"1\",\n",
            "                    \"so2Flag\": null,\n",
            "                    \"dataTime\": \"2025-09-21 22:00\",\n",
            "                    \"coGrade\": \"1\",\n",
            "                    \"no2Value\": \"0.008\",\n",
            "                    \"stationName\": \"성동구\",\n",
            "                    \"pm10Grade\": null,\n",
            "                    \"o3Value\": \"0.029\"\n",
            "                },\n",
            "                {\n",
            "                    \"so2Grade\": \"1\",\n",
            "                    \"coFlag\": null,\n",
            "                    \"khaiValue\": \"-\",\n",
            "                    \"so2Value\": \"0.003\",\n",
            "                    \"coValue\": \"0.2\",\n",
            "                    \"pm25Flag\": null,\n",
            "                    \"pm10Flag\": null,\n",
            "                    \"o3Grade\": \"1\",\n",
            "                    \"pm10Value\": \"12\",\n",
            "                    \"khaiGrade\": null,\n",
            "                    \"pm25Value\": \"4\",\n",
            "                    \"sidoName\": \"서울\",\n",
            "                    \"no2Flag\": null,\n",
            "                    \"no2Grade\": \"1\",\n",
            "                    \"o3Flag\": null,\n",
            "                    \"pm25Grade\": null,\n",
            "                    \"so2Flag\": null,\n",
            "                    \"dataTime\": \"2025-09-21 22:00\",\n",
            "                    \"coGrade\": \"1\",\n",
            "                    \"no2Value\": \"0.005\",\n",
            "                    \"stationName\": \"강변북로\",\n",
            "                    \"pm10Grade\": \"1\",\n",
            "                    \"o3Value\": \"0.029\"\n",
            "                },\n",
            "                {\n",
            "                    \"so2Grade\": \"1\",\n",
            "                    \"coFlag\": null,\n",
            "                    \"khaiValue\": \"-\",\n",
            "                    \"so2Value\": \"0.002\",\n",
            "                    \"coValue\": \"0.2\",\n",
            "                    \"pm25Flag\": null,\n",
            "                    \"pm10Flag\": null,\n",
            "                    \"o3Grade\": \"1\",\n",
            "                    \"pm10Value\": \"8\",\n",
            "                    \"khaiGrade\": null,\n",
            "                    \"pm25Value\": \"2\",\n",
            "                    \"sidoName\": \"서울\",\n",
            "                    \"no2Flag\": null,\n",
            "                    \"no2Grade\": \"1\",\n",
            "                    \"o3Flag\": null,\n",
            "                    \"pm25Grade\": null,\n",
            "                    \"so2Flag\": null,\n",
            "                    \"dataTime\": \"2025-09-21 22:00\",\n",
            "                    \"coGrade\": \"1\",\n",
            "                    \"no2Value\": \"0.005\",\n",
            "                    \"stationName\": \"중랑구\",\n",
            "                    \"pm10Grade\": \"1\",\n",
            "                    \"o3Value\": \"0.029\"\n",
            "                }\n",
            "            ],\n",
            "            \"pageNo\": 1,\n",
            "            \"numOfRows\": 10\n",
            "        },\n",
            "        \"header\": {\n",
            "            \"resultMsg\": \"NORMAL_CODE\",\n",
            "            \"resultCode\": \"00\"\n",
            "        }\n",
            "    }\n",
            "}\n"
          ]
        }
      ]
    },
    {
      "cell_type": "markdown",
      "source": [
        "## 데이터 프레임 생성"
      ],
      "metadata": {
        "id": "d6mT4IxkySzI"
      }
    },
    {
      "cell_type": "code",
      "source": [
        "import pandas as pd\n",
        "\n",
        "## requests로부터 response, body, item 항목 읽기\n",
        "data = response.json()['response']['body']['items']\n",
        "print(type(data))\n",
        "print(len(data))\n",
        "print(data[0])\n",
        "df = pd.DataFrame(data)\n",
        "df['so2Value']"
      ],
      "metadata": {
        "id": "HOOo9qTsXLkB",
        "outputId": "243f8011-8ee0-4a44-a227-78c5e1d082d6",
        "colab": {
          "base_uri": "https://localhost:8080/",
          "height": 472
        }
      },
      "execution_count": 45,
      "outputs": [
        {
          "output_type": "stream",
          "name": "stdout",
          "text": [
            "<class 'list'>\n",
            "10\n",
            "{'so2Grade': '1', 'coFlag': None, 'khaiValue': '46', 'so2Value': '0.002', 'coValue': '0.2', 'pm25Flag': None, 'pm10Flag': None, 'o3Grade': '1', 'pm10Value': '10', 'khaiGrade': '1', 'pm25Value': '5', 'sidoName': '서울', 'no2Flag': None, 'no2Grade': '1', 'o3Flag': None, 'pm25Grade': '1', 'so2Flag': None, 'dataTime': '2025-09-21 22:00', 'coGrade': '1', 'no2Value': '0.012', 'stationName': '중구', 'pm10Grade': '1', 'o3Value': '0.028'}\n"
          ]
        },
        {
          "output_type": "execute_result",
          "data": {
            "text/plain": [
              "0    0.002\n",
              "1    0.003\n",
              "2    0.002\n",
              "3    0.002\n",
              "4    0.002\n",
              "5    0.002\n",
              "6    0.003\n",
              "7    0.002\n",
              "8    0.003\n",
              "9    0.002\n",
              "Name: so2Value, dtype: object"
            ],
            "text/html": [
              "<div>\n",
              "<style scoped>\n",
              "    .dataframe tbody tr th:only-of-type {\n",
              "        vertical-align: middle;\n",
              "    }\n",
              "\n",
              "    .dataframe tbody tr th {\n",
              "        vertical-align: top;\n",
              "    }\n",
              "\n",
              "    .dataframe thead th {\n",
              "        text-align: right;\n",
              "    }\n",
              "</style>\n",
              "<table border=\"1\" class=\"dataframe\">\n",
              "  <thead>\n",
              "    <tr style=\"text-align: right;\">\n",
              "      <th></th>\n",
              "      <th>so2Value</th>\n",
              "    </tr>\n",
              "  </thead>\n",
              "  <tbody>\n",
              "    <tr>\n",
              "      <th>0</th>\n",
              "      <td>0.002</td>\n",
              "    </tr>\n",
              "    <tr>\n",
              "      <th>1</th>\n",
              "      <td>0.003</td>\n",
              "    </tr>\n",
              "    <tr>\n",
              "      <th>2</th>\n",
              "      <td>0.002</td>\n",
              "    </tr>\n",
              "    <tr>\n",
              "      <th>3</th>\n",
              "      <td>0.002</td>\n",
              "    </tr>\n",
              "    <tr>\n",
              "      <th>4</th>\n",
              "      <td>0.002</td>\n",
              "    </tr>\n",
              "    <tr>\n",
              "      <th>5</th>\n",
              "      <td>0.002</td>\n",
              "    </tr>\n",
              "    <tr>\n",
              "      <th>6</th>\n",
              "      <td>0.003</td>\n",
              "    </tr>\n",
              "    <tr>\n",
              "      <th>7</th>\n",
              "      <td>0.002</td>\n",
              "    </tr>\n",
              "    <tr>\n",
              "      <th>8</th>\n",
              "      <td>0.003</td>\n",
              "    </tr>\n",
              "    <tr>\n",
              "      <th>9</th>\n",
              "      <td>0.002</td>\n",
              "    </tr>\n",
              "  </tbody>\n",
              "</table>\n",
              "</div><br><label><b>dtype:</b> object</label>"
            ]
          },
          "metadata": {},
          "execution_count": 45
        }
      ]
    },
    {
      "cell_type": "markdown",
      "source": [
        "## 다양항 형식으로 데이터 저장\n"
      ],
      "metadata": {
        "id": "vVG0HYb0ymeM"
      }
    },
    {
      "cell_type": "code",
      "source": [
        "## CSV 형식 데이터 저\n",
        "df.to_csv('air_pollution.csv', index=False, encoding='utf-8')\n",
        "\n",
        "## JSON 형식 데이터 저장\n",
        "df.to_json('air_polution.json', indent=4, force_ascii=False)\n",
        "\n",
        "## EXCEL 형식 데이터 저장\n",
        "df.to_excel('air_polution.xlsx', index=False)\n",
        "\n",
        "## HTML 형식 데이터 저장\n",
        "df.to_html('air_polution.html')"
      ],
      "metadata": {
        "id": "HW1ZodpgXNhG"
      },
      "execution_count": 48,
      "outputs": []
    }
  ]
}